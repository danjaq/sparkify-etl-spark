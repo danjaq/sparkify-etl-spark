{
 "cells": [
  {
   "cell_type": "code",
   "execution_count": 1,
   "metadata": {
    "editable": true
   },
   "outputs": [],
   "source": [
    "import configparser\n",
    "from datetime import datetime\n",
    "import os\n",
    "from pyspark.sql import SparkSession\n",
    "from pyspark.sql.functions import udf, col, monotonically_increasing_id\n",
    "from pyspark.sql.functions import year, month, dayofmonth, hour, weekofyear, date_format\n",
    "from pyspark.sql.types import StructType as R, StructField as Fld, DoubleType as Dbl, StringType as Str, IntegerType as Int, DateType as Date, TimestampType as TS"
   ]
  },
  {
   "cell_type": "code",
   "execution_count": 2,
   "metadata": {
    "editable": true
   },
   "outputs": [],
   "source": [
    "config = configparser.ConfigParser()\n",
    "config.read('dl.cfg')\n",
    "\n",
    "os.environ['AWS_ACCESS_KEY_ID']=config['AWS']['AWS_ACCESS_KEY_ID']\n",
    "os.environ['AWS_SECRET_ACCESS_KEY']=config['AWS']['AWS_SECRET_ACCESS_KEY']"
   ]
  },
  {
   "cell_type": "code",
   "execution_count": 3,
   "metadata": {
    "editable": true
   },
   "outputs": [],
   "source": [
    "spark = SparkSession \\\n",
    "        .builder \\\n",
    "        .config(\"spark.jars.packages\", \"org.apache.hadoop:hadoop-aws:2.7.0\") \\\n",
    "        .getOrCreate()"
   ]
  },
  {
   "cell_type": "code",
   "execution_count": 4,
   "metadata": {
    "editable": true
   },
   "outputs": [],
   "source": [
    "input_data = \"data/\"\n",
    "output_data = \"outa/\""
   ]
  },
  {
   "cell_type": "code",
   "execution_count": 5,
   "metadata": {
    "editable": true
   },
   "outputs": [],
   "source": [
    "    # get filepath to song data file\n",
    "    song_data = input_data + \"song_data/*/*/*\"\n",
    "    \n",
    "    # read song data file\n",
    "    songSchema = R([\n",
    "        Fld(\"num_songs\", Int()),\n",
    "        Fld(\"artist_id\", Str()),\n",
    "        Fld(\"artist_latitude\", Dbl()),\n",
    "        Fld(\"artist_longitude\", Dbl()),\n",
    "        Fld(\"artist_location\", Str()),\n",
    "        Fld(\"artist_name\", Str()),\n",
    "        Fld(\"song_id\", Str()),\n",
    "        Fld(\"title\", Str()),\n",
    "        Fld(\"duration\", Dbl()),\n",
    "        Fld(\"year\", Int())\n",
    "    ])\n",
    "    df = spark.read.schema(songSchema)\\\n",
    "        .json(song_data)\n",
    "\n",
    "    # extract columns to create songs table\n",
    "    songs_table = df.select(\"song_id\", \"title\", \"artist_id\", \"year\", \"duration\")\n",
    "    \n",
    "    # write songs table to parquet files partitioned by year and artist\n",
    "    songs_table.write.partitionBy(\"year\", \"artist_id\").mode(\"overwrite\")\\\n",
    "        .parquet(output_data + \"songs.parquet\")\n",
    "\n",
    "    # extract columns to create artists table\n",
    "    artists_table = df.select(\"artist_id\", \"artist_name\", \"artist_location\", \"artist_latitude\", \"artist_longitude\")\n",
    "    \n",
    "    # write artists table to parquet files\n",
    "    artists_table.write.mode(\"overwrite\")\\\n",
    "        .parquet(output_data + \"artists.parquet\")"
   ]
  },
  {
   "cell_type": "code",
   "execution_count": 7,
   "metadata": {
    "editable": true
   },
   "outputs": [],
   "source": [
    "    # get filepath to log data file\n",
    "    log_data = input_data + \"log_data/*.json\"\n",
    "\n",
    "    # read log data file\n",
    "    # Actually don't use this schema\n",
    "    # logSchema = R([\n",
    "        # Fld(\"artist\", Str()),\n",
    "        # Fld(\"auth\", Str()),\n",
    "        # Fld(\"firstName\", Str()),\n",
    "        # Fld(\"gender\", Str()),\n",
    "        # Fld(\"itemInSession\", Int()),\n",
    "        # Fld(\"lastName\", Str()),\n",
    "        # Fld(\"length\", Dbl()),\n",
    "        # Fld(\"level\", Str()),\n",
    "        # Fld(\"location\", Str()),\n",
    "        # Fld(\"method\", Str()),\n",
    "        # Fld(\"page\", Str()),\n",
    "        # Fld(\"registration\", Int()),\n",
    "        # Fld(\"sessionId\", Int()),\n",
    "        # Fld(\"song\", Str()),\n",
    "        # Fld(\"status\", Int()),\n",
    "        # Fld(\"ts\", TS()),\n",
    "        # Fld(\"userAgent\", Str()),\n",
    "        # Fld(\"userId\", Str())\n",
    "    # ])\n",
    "    df = spark.read.json(log_data)\n",
    "\n",
    "    # filter by actions for song plays\n",
    "    df = df.filter((df.page == 'NextSong') & (df.userId != ''))\n",
    "    df = df.withColumn(\"itemInSession\", col(\"itemInSession\").cast(Int())) \\\n",
    "            .withColumn(\"registration\", col(\"registration\").cast(Int())) \\\n",
    "            .withColumn(\"sessionId\", col(\"sessionId\").cast(Int())) \\\n",
    "            .withColumn(\"status\", col(\"status\").cast(Int())) \\\n",
    "            .withColumn(\"ts\", col(\"ts\").cast(Dbl())) \\\n",
    "            .withColumn(\"userId\", col(\"userId\").cast(Int()))\n",
    "    \n",
    "    # extract columns for users table    \n",
    "    users_table = df.select(\"userId\", \"firstName\", \"lastName\", \"gender\", \"level\")\\\n",
    "        .distinct()\n",
    "    \n",
    "    # write users table to parquet files\n",
    "    users_table.write.mode(\"overwrite\")\\\n",
    "        .parquet(output_data + \"users.parquet\")\n",
    "\n",
    "    # create timestamp column from original timestamp column\n",
    "    get_timestamp = udf(lambda x: int((int(x)/1000)), Int())\n",
    "    df = df.withColumn(\"timestamp\", get_timestamp(df.ts))\n",
    "    \n",
    "    # create datetime column from original timestamp column\n",
    "    get_datetime = udf(lambda y: datetime.fromtimestamp((y/1000)), TS())\n",
    "    df = df.withColumn(\"datetime\", get_datetime(df.ts))\n",
    "\n",
    "    # extract columns to create time table\n",
    "    time_table = df.select(\n",
    "        col(\"timestamp\").alias(\"start_time\"),\n",
    "        hour(col(\"datetime\")).alias(\"hour\"),\n",
    "        dayofmonth(col(\"datetime\")).alias(\"day\"),\n",
    "        weekofyear(col(\"datetime\")).alias(\"week\"),\n",
    "        month(col(\"datetime\")).alias(\"month\"),\n",
    "        year(col(\"datetime\")).alias(\"year\"),\n",
    "        date_format(col(\"datetime\"), \"E\").alias(\"weekday\")\n",
    "    ).distinct()\n",
    "    \n",
    "    # write time table to parquet files partitioned by year and month\n",
    "    time_table.write.partitionBy(\"year\", \"month\").mode(\"overwrite\")\\\n",
    "        .parquet(output_data + \"time.parquet\")\n",
    "\n",
    "    # read in song data to use for songplays table\n",
    "    # is there a better way to do this by reading from spark or something?\n",
    "    song_df = spark.read.parquet(output_data + \"songs.parquet\")\n",
    "    artist_df = spark.read.parquet(output_data + \"artists.parquet\")\n",
    "\n",
    "    # extract columns from joined song and log datasets to create songplays table \n",
    "    songplays_table = song_df.alias(\"s\").join(artist_df.alias(\"a\"), artist_df.artist_id == song_df.artist_id)\\\n",
    "        .join(df.alias(\"l\"), (df.artist == artist_df.artist_name) & (df.song == song_df.title))\\\n",
    "        .join(time_table.alias(\"t\"), time_table.start_time == df.timestamp)\\\n",
    "        .select(monotonically_increasing_id().alias(\"songplay_id\"),\\\n",
    "                col(\"l.timestamp\").alias(\"start_time\"),\\\n",
    "                col(\"t.year\"),\\\n",
    "                col(\"t.month\"),\\\n",
    "                col(\"l.userId\").alias(\"user_id\"),\\\n",
    "                col(\"l.level\"),\\\n",
    "                col(\"s.song_id\"),\\\n",
    "                col(\"a.artist_id\"),\\\n",
    "                col(\"l.sessionId\").alias(\"session_id\"),\\\n",
    "                col(\"location\"),\\\n",
    "                col(\"l.userAgent\").alias(\"user_agent\"))\n",
    "\n",
    "    # write songplays table to parquet files partitioned by year and month\n",
    "    songplays_table.write.partitionBy(\"year\", \"month\").mode(\"overwrite\")\\\n",
    "        .parquet(output_data + \"songplay.parquet\")\n"
   ]
  },
  {
   "cell_type": "code",
   "execution_count": null,
   "metadata": {
    "editable": true
   },
   "outputs": [],
   "source": []
  }
 ],
 "metadata": {
  "kernelspec": {
   "display_name": "Python 3",
   "language": "python",
   "name": "python3"
  },
  "language_info": {
   "codemirror_mode": {
    "name": "ipython",
    "version": 3
   },
   "file_extension": ".py",
   "mimetype": "text/x-python",
   "name": "python",
   "nbconvert_exporter": "python",
   "pygments_lexer": "ipython3",
   "version": "3.6.3"
  }
 },
 "nbformat": 4,
 "nbformat_minor": 4
}
